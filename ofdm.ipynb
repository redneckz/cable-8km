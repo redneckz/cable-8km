{
 "metadata": {
  "name": "",
  "signature": "sha256:5b4666d3a6c942194201062a3e6be5cc6cbdb43587b707db49a2db976a28c438"
 },
 "nbformat": 3,
 "nbformat_minor": 0,
 "worksheets": [
  {
   "cells": [
    {
     "cell_type": "heading",
     "level": 1,
     "metadata": {},
     "source": [
      "OFDM"
     ]
    },
    {
     "cell_type": "heading",
     "level": 1,
     "metadata": {},
     "source": [
      "\u0412\u0432\u0435\u0434\u0435\u043d\u0438\u0435"
     ]
    },
    {
     "cell_type": "markdown",
     "metadata": {},
     "source": []
    }
   ],
   "metadata": {}
  }
 ]
}